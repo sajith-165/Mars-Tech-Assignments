{
 "cells": [
  {
   "cell_type": "code",
   "execution_count": 2,
   "id": "c95732ab-271e-41ce-8f83-ff256578de48",
   "metadata": {},
   "outputs": [
    {
     "name": "stdout",
     "output_type": "stream",
     "text": [
      "0\n",
      "1\n",
      "2\n",
      "3\n",
      "4\n",
      "5\n",
      "6\n",
      "7\n",
      "8\n",
      "9\n",
      "10\n",
      "11\n",
      "12\n",
      "13\n",
      "14\n",
      "15\n",
      "16\n",
      "17\n",
      "18\n",
      "19\n"
     ]
    }
   ],
   "source": [
    "for x in range (20) : print (x)"
   ]
  },
  {
   "cell_type": "code",
   "execution_count": 3,
   "id": "2c50ec8c-2110-4f31-8bb8-ba609117119f",
   "metadata": {},
   "outputs": [
    {
     "name": "stdout",
     "output_type": "stream",
     "text": [
      "10 11 12 13 14 15 16 17 18 19 "
     ]
    }
   ],
   "source": [
    "for x in range (10,20) : print (x, end = \" \")"
   ]
  },
  {
   "cell_type": "code",
   "execution_count": 4,
   "id": "c474dcbe-ae8b-48b7-88f0-7563267e2ff6",
   "metadata": {},
   "outputs": [
    {
     "name": "stdout",
     "output_type": "stream",
     "text": [
      "Number of item in the List : 7\n"
     ]
    }
   ],
   "source": [
    "list = [10, 20, 14, 55, 43, 87, 76]\n",
    "print (f\"Number of item in the List : {len(list)}\")"
   ]
  },
  {
   "cell_type": "code",
   "execution_count": 7,
   "id": "20d1298f-69e9-4620-8d6a-ce87370bd581",
   "metadata": {},
   "outputs": [
    {
     "name": "stdout",
     "output_type": "stream",
     "text": [
      "Artificial Intelligence\n",
      "A\n",
      "r\n",
      "t\n",
      "i\n",
      "f\n",
      "i\n",
      "c\n",
      "i\n",
      "a\n",
      "l\n",
      " \n",
      "I\n",
      "n\n",
      "t\n",
      "e\n",
      "l\n",
      "l\n",
      "i\n",
      "g\n",
      "e\n",
      "n\n",
      "c\n",
      "e\n"
     ]
    }
   ],
   "source": [
    "txt = \"Artificial Intelligence\"\n",
    "print(txt)\n",
    "for x in txt : print (x)"
   ]
  },
  {
   "cell_type": "code",
   "execution_count": 10,
   "id": "69b0d3ba-aba2-41a9-8ef5-1464b4f7676d",
   "metadata": {},
   "outputs": [
    {
     "name": "stdout",
     "output_type": "stream",
     "text": [
      "-Your Name-\n",
      "-Your Age-\n",
      "-Your Profession-\n"
     ]
    }
   ],
   "source": [
    "list = [\"-Your Name-\",\"-Your Age-\",\"-Your Profession-\"]\n",
    "for x in list : print (x)"
   ]
  },
  {
   "cell_type": "code",
   "execution_count": 14,
   "id": "6d44dc8f-6bc2-4c9d-9f3b-a16f18d8c2c2",
   "metadata": {},
   "outputs": [
    {
     "name": "stdout",
     "output_type": "stream",
     "text": [
      "(1, 'Welcome', 2, 'mars tech')\n"
     ]
    }
   ],
   "source": [
    "tuple = (1, 'Welcome' , 2, 'mars tech')\n",
    "print (tuple)"
   ]
  },
  {
   "cell_type": "code",
   "execution_count": 16,
   "id": "8412e661-76a0-497d-98ee-b9201ae280c9",
   "metadata": {},
   "outputs": [
    {
     "name": "stdout",
     "output_type": "stream",
     "text": [
      "((0, 1, 2, 3), ('python', 'mars tech'))\n"
     ]
    }
   ],
   "source": [
    "tuple1 = (0, 1, 2 ,3); tuple2 = ('python', 'mars tech')\n",
    "print ((tuple1,tuple2))"
   ]
  },
  {
   "cell_type": "code",
   "execution_count": 20,
   "id": "54acb7f8-fa99-4187-b31a-e097a4141de1",
   "metadata": {},
   "outputs": [
    {
     "name": "stdout",
     "output_type": "stream",
     "text": [
      "(20, 10, 16, 19, 25, 1, 276, 188)\n",
      "19 is odd\n",
      "25 is odd\n",
      "1 is odd\n"
     ]
    }
   ],
   "source": [
    "tuple = (20,10,16,19,25,1,276,188)\n",
    "print (tuple)\n",
    "for x in tuple :\n",
    "    if (x & 1) : print (x, \"is odd\")"
   ]
  },
  {
   "cell_type": "code",
   "execution_count": 21,
   "id": "1deb4683-128e-4e82-bbcf-c78d18301402",
   "metadata": {},
   "outputs": [
    {
     "name": "stdout",
     "output_type": "stream",
     "text": [
      "(20, 10, 16, 19, 25, 1, 276, 188)\n",
      "20 is even\n",
      "10 is even\n",
      "16 is even\n",
      "276 is even\n",
      "188 is even\n"
     ]
    }
   ],
   "source": [
    "print (tuple)\n",
    "for x in tuple :\n",
    "    if ((x & 1) != 1 ) : print (x, \"is even\")"
   ]
  },
  {
   "cell_type": "code",
   "execution_count": null,
   "id": "47ff3c36-0187-45f0-812f-05e9d7087c2c",
   "metadata": {},
   "outputs": [],
   "source": []
  }
 ],
 "metadata": {
  "kernelspec": {
   "display_name": "Python 3 (ipykernel)",
   "language": "python",
   "name": "python3"
  },
  "language_info": {
   "codemirror_mode": {
    "name": "ipython",
    "version": 3
   },
   "file_extension": ".py",
   "mimetype": "text/x-python",
   "name": "python",
   "nbconvert_exporter": "python",
   "pygments_lexer": "ipython3",
   "version": "3.12.7"
  }
 },
 "nbformat": 4,
 "nbformat_minor": 5
}
