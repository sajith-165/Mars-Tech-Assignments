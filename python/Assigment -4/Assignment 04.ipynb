{
 "cells": [
  {
   "cell_type": "code",
   "execution_count": 2,
   "id": "ff4beb25-6673-4f44-a63d-0de2dc60f2b7",
   "metadata": {},
   "outputs": [
    {
     "name": "stdin",
     "output_type": "stream",
     "text": [
      "vlaue :  10\n"
     ]
    },
    {
     "name": "stdout",
     "output_type": "stream",
     "text": [
      "correct\n"
     ]
    }
   ],
   "source": [
    "i = int (input(\"vlaue : \"))\n",
    "print (\"correct\") if i == 10 else print (\"incorrect\")"
   ]
  },
  {
   "cell_type": "code",
   "execution_count": 4,
   "id": "45be1324-6c74-44eb-8b76-dafea8ccb4e6",
   "metadata": {},
   "outputs": [
    {
     "name": "stdin",
     "output_type": "stream",
     "text": [
      "Enter the password :  marstech@123\n"
     ]
    },
    {
     "name": "stdout",
     "output_type": "stream",
     "text": [
      "Your password is correct\n"
     ]
    }
   ],
   "source": [
    "ori = \"marstech@123\"\n",
    "pas = input(\"Enter the password : \")\n",
    "print (\"Your password is correct\") if ori == pas else print (\"Your password is incorrect\")"
   ]
  },
  {
   "cell_type": "code",
   "execution_count": 6,
   "id": "1fc99c7f-06e3-4d54-bf9b-9c744675b0a9",
   "metadata": {},
   "outputs": [
    {
     "name": "stdin",
     "output_type": "stream",
     "text": [
      "Age :  5\n"
     ]
    },
    {
     "name": "stdout",
     "output_type": "stream",
     "text": [
      "children\n"
     ]
    }
   ],
   "source": [
    "age = int (input (\"Age : \"))\n",
    "\n",
    "if age > 0 :\n",
    "    if   age < 18 : cat = \"children\"\n",
    "    elif age < 30 : cat = \"adult\"\n",
    "    elif age < 60 : cat = \"citizen\"\n",
    "    else : cat = \"senior citizen\"\n",
    "else :\n",
    "     cat : \"invalid age\"\n",
    "\n",
    "print (cat)"
   ]
  },
  {
   "cell_type": "code",
   "execution_count": 7,
   "id": "2a6797bf-4ba6-4902-8974-18e879a57c49",
   "metadata": {},
   "outputs": [
    {
     "name": "stdin",
     "output_type": "stream",
     "text": [
      "Enter any number :  1\n"
     ]
    },
    {
     "name": "stdout",
     "output_type": "stream",
     "text": [
      "Number is positive\n"
     ]
    }
   ],
   "source": [
    "num1 = int (input (\"Enter any number : \"))\n",
    "if num1 == 0 : print (\"The Number is zero..\")\n",
    "else:\n",
    "    print (\"Number is positive\") if num1 > 0 else print (\"Number is negative\")"
   ]
  },
  {
   "cell_type": "code",
   "execution_count": 8,
   "id": "ba05d8cc-9aa6-40c9-b162-6ccfc5b55b52",
   "metadata": {},
   "outputs": [
    {
     "name": "stdin",
     "output_type": "stream",
     "text": [
      "Enter a number to check :  10\n"
     ]
    },
    {
     "name": "stdout",
     "output_type": "stream",
     "text": [
      "yes, it's divisible by 5\n"
     ]
    }
   ],
   "source": [
    "num2 = int (input (\"Enter a number to check : \"))\n",
    "print (\"No is not divisible by 5\") if num2 % 5 else print (\"yes, it's divisible by 5\")"
   ]
  }
 ],
 "metadata": {
  "kernelspec": {
   "display_name": "Python 3 (ipykernel)",
   "language": "python",
   "name": "python3"
  },
  "language_info": {
   "codemirror_mode": {
    "name": "ipython",
    "version": 3
   },
   "file_extension": ".py",
   "mimetype": "text/x-python",
   "name": "python",
   "nbconvert_exporter": "python",
   "pygments_lexer": "ipython3",
   "version": "3.12.7"
  }
 },
 "nbformat": 4,
 "nbformat_minor": 5
}
