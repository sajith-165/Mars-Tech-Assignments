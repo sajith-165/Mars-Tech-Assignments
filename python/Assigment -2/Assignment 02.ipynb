{
 "cells": [
  {
   "cell_type": "code",
   "execution_count": 1,
   "id": "064cf708-dd3a-4b03-977d-553ecf166993",
   "metadata": {},
   "outputs": [
    {
     "name": "stdout",
     "output_type": "stream",
     "text": [
      "Mars Tech\n"
     ]
    }
   ],
   "source": [
    "print (\"Mars Tech\")"
   ]
  },
  {
   "cell_type": "code",
   "execution_count": 3,
   "id": "f499c0cb-3ff0-4fe3-8408-610e564983e8",
   "metadata": {},
   "outputs": [
    {
     "name": "stdin",
     "output_type": "stream",
     "text": [
      "Enter your institute name? :  Mars Tech\n"
     ]
    }
   ],
   "source": [
    "name = input (\"Enter your institute name? : \")"
   ]
  },
  {
   "cell_type": "code",
   "execution_count": 4,
   "id": "67c4a1b1-df72-49c1-8ab0-79d677080486",
   "metadata": {},
   "outputs": [
    {
     "name": "stdin",
     "output_type": "stream",
     "text": [
      "Enter your name :  Raj\n",
      "Enter your age :  15\n",
      "Enter your school name :  Guru school\n",
      "Enter your drgree :  B.E.CSE\n"
     ]
    }
   ],
   "source": [
    "name = input (\"Enter your name : \")\n",
    "age = input (\"Enter your age : \")\n",
    "school = input (\"Enter your school name : \")\n",
    "degree = input (\"Enter your drgree : \")"
   ]
  },
  {
   "cell_type": "code",
   "execution_count": 18,
   "id": "03f7a41d-55a5-4a01-9466-111f61948f24",
   "metadata": {},
   "outputs": [
    {
     "name": "stdin",
     "output_type": "stream",
     "text": [
      "a =  43\n",
      "b =  34\n"
     ]
    }
   ],
   "source": [
    "a = int (input(\"a = \"))\n",
    "b = int (input(\"b = \"))"
   ]
  },
  {
   "cell_type": "code",
   "execution_count": 15,
   "id": "39ab4828-bfa8-4fc2-9851-68e2ef653ee4",
   "metadata": {},
   "outputs": [
    {
     "name": "stdout",
     "output_type": "stream",
     "text": [
      " a = 43\n",
      " b = 34\n",
      " add = 77\n"
     ]
    }
   ],
   "source": [
    "print (f\" a = {a}\\n b = {b}\\n add = {a+b}\")"
   ]
  },
  {
   "cell_type": "code",
   "execution_count": 10,
   "id": "192e5575-17d4-4cf4-863a-9f34c70e80e6",
   "metadata": {},
   "outputs": [
    {
     "name": "stdout",
     "output_type": "stream",
     "text": [
      " a = 43\n",
      " b = 34\n",
      " Sub = 9\n"
     ]
    }
   ],
   "source": [
    "print (f\" a = {a}\\n b = {b}\\n Sub = {a-b}\")"
   ]
  },
  {
   "cell_type": "code",
   "execution_count": 11,
   "id": "f5cc042f-10aa-4b17-b910-515e181775b8",
   "metadata": {},
   "outputs": [
    {
     "name": "stdout",
     "output_type": "stream",
     "text": [
      " a = 43\n",
      " b = 34\n",
      " Mul = 1462\n"
     ]
    }
   ],
   "source": [
    "print (f\" a = {a}\\n b = {b}\\n Mul = {a*b}\")"
   ]
  },
  {
   "cell_type": "code",
   "execution_count": 13,
   "id": "e8ac176e-02aa-40ae-b436-350df6387186",
   "metadata": {},
   "outputs": [
    {
     "name": "stdout",
     "output_type": "stream",
     "text": [
      " a = 43\n",
      " b = 34\n",
      " Float Div = 1.2647058823529411\n"
     ]
    }
   ],
   "source": [
    "print (f\" a = {a}\\n b = {b}\\n Float Div = {a/b}\") if b!= 0 else print(\"can't devide\")"
   ]
  },
  {
   "cell_type": "code",
   "execution_count": 14,
   "id": "3bd24490-3ad0-4aac-84d8-5b120a01fa01",
   "metadata": {},
   "outputs": [
    {
     "name": "stdout",
     "output_type": "stream",
     "text": [
      " a = 43\n",
      " b = 34\n",
      " Modulo = 9\n"
     ]
    }
   ],
   "source": [
    "print (f\" a = {a}\\n b = {b}\\n Modulo = {a%b}\")"
   ]
  },
  {
   "cell_type": "code",
   "execution_count": 21,
   "id": "2d945190-4231-4376-a097-202dfaf00653",
   "metadata": {},
   "outputs": [
    {
     "name": "stdin",
     "output_type": "stream",
     "text": [
      "a =  4\n",
      "b =  4\n"
     ]
    },
    {
     "name": "stdout",
     "output_type": "stream",
     "text": [
      "power = 256\n"
     ]
    }
   ],
   "source": [
    "a = int (input(\"a = \"))\n",
    "b = int (input(\"b = \"))\n",
    "print (f\"power = {a**b}\")"
   ]
  }
 ],
 "metadata": {
  "kernelspec": {
   "display_name": "Python 3 (ipykernel)",
   "language": "python",
   "name": "python3"
  },
  "language_info": {
   "codemirror_mode": {
    "name": "ipython",
    "version": 3
   },
   "file_extension": ".py",
   "mimetype": "text/x-python",
   "name": "python",
   "nbconvert_exporter": "python",
   "pygments_lexer": "ipython3",
   "version": "3.12.7"
  }
 },
 "nbformat": 4,
 "nbformat_minor": 5
}
