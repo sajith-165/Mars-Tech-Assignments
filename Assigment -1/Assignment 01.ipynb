{
 "cells": [
  {
   "cell_type": "code",
   "execution_count": 3,
   "id": "d9eb8f09-9b6c-4d2a-af6d-cb44b2a42d6d",
   "metadata": {},
   "outputs": [
    {
     "name": "stdout",
     "output_type": "stream",
     "text": [
      "Welcome to Assignment-1\n"
     ]
    }
   ],
   "source": [
    "print (\"Welcome to Assignment-1\") "
   ]
  },
  {
   "cell_type": "code",
   "execution_count": 2,
   "id": "682ab19d-e4e8-444e-ab1e-74b0926c7440",
   "metadata": {},
   "outputs": [
    {
     "name": "stdout",
     "output_type": "stream",
     "text": [
      " Num1 = 10\n",
      " Num1 = 30\n",
      " Add  = 20\n"
     ]
    }
   ],
   "source": [
    "Num1 = 10; Num2 = 30\n",
    "Add  = Num1 + Num1\n",
    "print(f\" Num1 = {Num1}\\n Num1 = {Num2}\\n Add  = {Add}\")"
   ]
  },
  {
   "cell_type": "code",
   "execution_count": 5,
   "id": "a0a8c0cc-1f1b-4dfa-a1cc-e1c8dcedc571",
   "metadata": {},
   "outputs": [
    {
     "name": "stdin",
     "output_type": "stream",
     "text": [
      "Enter the BMI Index :  5\n"
     ]
    },
    {
     "name": "stdout",
     "output_type": "stream",
     "text": [
      "underweight\n"
     ]
    }
   ],
   "source": [
    "bmi = float(input(\"Enter the BMI Index : \"))\n",
    "\n",
    "if   bmi < 18.5 : result = \"underweight\" \n",
    "elif bmi < 24.9 : result = \"Normal weight\"\n",
    "elif bmi < 29.9 : result = \"Overweight\"\n",
    "else : result = \"Obesity\"\n",
    "\n",
    "print(result)"
   ]
  }
 ],
 "metadata": {
  "kernelspec": {
   "display_name": "Python 3 (ipykernel)",
   "language": "python",
   "name": "python3"
  },
  "language_info": {
   "codemirror_mode": {
    "name": "ipython",
    "version": 3
   },
   "file_extension": ".py",
   "mimetype": "text/x-python",
   "name": "python",
   "nbconvert_exporter": "python",
   "pygments_lexer": "ipython3",
   "version": "3.12.7"
  }
 },
 "nbformat": 4,
 "nbformat_minor": 5
}
